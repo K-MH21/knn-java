{
 "cells": [
  {
   "cell_type": "markdown",
   "id": "c063f7f1",
   "metadata": {},
   "source": [
    "(Markdown is written by ChatGPT)\n",
    "# k-Nearest Neighbors from Scratch in Java (via Jupyter)\n",
    "\n",
    "This notebook implements k-NN and weighted k-NN for the Iris dataset using pure Java.  \n",
    "It includes data cleaning, normalization (z-score), label encoding, and accuracy evaluation.\n",
    "\n",
    "## Requirements\n",
    "- Java Kernel for Jupyter (e.g., [IJava](https://github.com/SpencerPark/IJava))\n",
    "- opencsv-5.11.2.jar\n",
    "- commons-lang3-3.18.0.jar\n",
    "\n",
    "## Dataset\n",
    "The Iris dataset is used, with 150 samples and 3 classes (50 each).  \n",
    "We normalize features using z-score standardization and encode labels numerically.\n",
    "\n",
    "## Features\n",
    "- Pure Java implementation\n",
    "- Supports both unweighted and weighted k-NN\n",
    "- Accuracy printed, with optional misclassified sample output"
   ]
  },
  {
   "cell_type": "code",
   "execution_count": 1,
   "id": "7cab8f00-8c8b-4001-8fff-0fc58401a204",
   "metadata": {
    "vscode": {
     "languageId": "java"
    }
   },
   "outputs": [],
   "source": [
    "%jars opencsv-5.11.2.jar\n",
    "%jars commons-lang3-3.18.0.jar\n",
    "\n",
    "import com.opencsv.CSVReader;\n",
    "import java.io.FileReader;\n",
    "import java.util.*;"
   ]
  },
  {
   "cell_type": "code",
   "execution_count": 2,
   "id": "91cb3b5c-71e3-4f83-b17d-b7f0b711a29c",
   "metadata": {
    "vscode": {
     "languageId": "java"
    }
   },
   "outputs": [
    {
     "name": "stdout",
     "output_type": "stream",
     "text": [
      "Loaded 151 rows.\n"
     ]
    }
   ],
   "source": [
    "String path = \"Datasets/Iris.csv\";\n",
    "CSVReader reader = new CSVReader(new FileReader(path));\n",
    "List<String[]> data = reader.readAll();\n",
    "reader.close();\n",
    "\n",
    "System.out.println(\"Loaded \" + data.size() + \" rows.\");"
   ]
  },
  {
   "cell_type": "code",
   "execution_count": 3,
   "id": "2e5514b7-05a9-404e-8cdb-c13494a19410",
   "metadata": {
    "vscode": {
     "languageId": "java"
    }
   },
   "outputs": [
    {
     "name": "stdout",
     "output_type": "stream",
     "text": [
      "Id\t|\tSepalLengthCm\t|\tSepalWidthCm\t|\tPetalLengthCm\t|\tPetalWidthCm\t|\tSpecies\n",
      "───────────────────────────────────────────────────────────────────────────────────────────────────────────────────────────────────\n",
      "1\t|\t\t5.1\t|\t\t3.5\t|\t\t1.4\t|\t\t0.2\t|\t\tIris-setosa\n",
      "2\t|\t\t4.9\t|\t\t3.0\t|\t\t1.4\t|\t\t0.2\t|\t\tIris-setosa\n",
      "3\t|\t\t4.7\t|\t\t3.2\t|\t\t1.3\t|\t\t0.2\t|\t\tIris-setosa\n",
      "4\t|\t\t4.6\t|\t\t3.1\t|\t\t1.5\t|\t\t0.2\t|\t\tIris-setosa\n",
      "5\t|\t\t5.0\t|\t\t3.6\t|\t\t1.4\t|\t\t0.2\t|\t\tIris-setosa\n",
      "6\t|\t\t5.4\t|\t\t3.9\t|\t\t1.7\t|\t\t0.4\t|\t\tIris-setosa\n",
      "7\t|\t\t4.6\t|\t\t3.4\t|\t\t1.4\t|\t\t0.3\t|\t\tIris-setosa\n",
      "8\t|\t\t5.0\t|\t\t3.4\t|\t\t1.5\t|\t\t0.2\t|\t\tIris-setosa\n",
      "9\t|\t\t4.4\t|\t\t2.9\t|\t\t1.4\t|\t\t0.2\t|\t\tIris-setosa\n",
      "10\t|\t\t4.9\t|\t\t3.1\t|\t\t1.5\t|\t\t0.1\t|\t\tIris-setosa\n"
     ]
    }
   ],
   "source": [
    "System.out.print(data.get(0)[0]);\n",
    "    for (int j = 1; j < data.get(0).length; j++) \n",
    "        System.out.print(\"\\t|\\t\" + data.get(0)[j]);\n",
    "System.out.print(\"\\n───────────────────────────────────────────────────────────────────────────────────────────────────────────────────────────────────\\n\");\n",
    "for (int i = 1; i < data.size(); i++) {\n",
    "    System.out.print(data.get(i)[0]);\n",
    "    for (int j = 1; j < data.get(i).length; j++) \n",
    "        System.out.print(\"\\t|\\t\\t\" + data.get(i)[j]);\n",
    "    System.out.print(\"\\n\");\n",
    "    if (i == 10) break;\n",
    "}"
   ]
  },
  {
   "cell_type": "code",
   "execution_count": 4,
   "id": "c5cb5807-ab82-48b1-b141-8ed3ff6abec0",
   "metadata": {
    "vscode": {
     "languageId": "java"
    }
   },
   "outputs": [
    {
     "name": "stdout",
     "output_type": "stream",
     "text": [
      "Sepal Length: 4.3 - 7.9 | Sum: 876.5000000000002 | Avg: 5.843333333333335\n",
      "Sepal Width : 2.0 - 4.4 | Sum: 458.10000000000014 | Avg: 3.0540000000000007\n",
      "Petal Length: 1.0 - 6.9 | Sum: 563.8000000000004 | Avg: 3.7586666666666693\n",
      "Petal Width : 0.1 - 2.5 | Sum: 179.8000000000001 | Avg: 1.1986666666666672\n",
      "Unique Species: [Iris-setosa, Iris-versicolor, Iris-virginica]\n",
      "Iris-setosa\t|\t50\n",
      "Iris-versicolor\t|\t50\n",
      "Iris-virginica\t|\t50\n"
     ]
    }
   ],
   "source": [
    "double sepalLengthMin = Double.parseDouble(data.get(1)[1]);\n",
    "double sepalLengthMax = sepalLengthMin;\n",
    "double sepalLengthSum = 0;\n",
    "\n",
    "double sepalWidthMin = Double.parseDouble(data.get(1)[2]);\n",
    "double sepalWidthMax = sepalWidthMin;\n",
    "double sepalWidthSum = 0;\n",
    "\n",
    "double petalLengthMin = Double.parseDouble(data.get(1)[3]);\n",
    "double petalLengthMax = petalLengthMin;\n",
    "double petalLengthSum = 0;\n",
    "\n",
    "double petalWidthMin = Double.parseDouble(data.get(1)[4]);\n",
    "double petalWidthMax = petalWidthMin;\n",
    "double petalWidthSum = 0;\n",
    "\n",
    "HashMap<String, Integer> speciesCount = new HashMap<>();\n",
    "\n",
    "int totalRecords = data.size() - 1; // exclude header\n",
    "\n",
    "// Skip header\n",
    "for (int i = 1; i < data.size(); i++) {\n",
    "    String[] record = data.get(i);\n",
    "\n",
    "    double sepalLength = Double.parseDouble(record[1]);\n",
    "    double sepalWidth = Double.parseDouble(record[2]);\n",
    "    double petalLength = Double.parseDouble(record[3]);\n",
    "    double petalWidth = Double.parseDouble(record[4]);\n",
    "    String species = record[5].trim();\n",
    "\n",
    "    // Update min/max/sum\n",
    "    sepalLengthMin = Math.min(sepalLengthMin, sepalLength);\n",
    "    sepalLengthMax = Math.max(sepalLengthMax, sepalLength);\n",
    "    sepalLengthSum += sepalLength;\n",
    "\n",
    "    sepalWidthMin = Math.min(sepalWidthMin, sepalWidth);\n",
    "    sepalWidthMax = Math.max(sepalWidthMax, sepalWidth);\n",
    "    sepalWidthSum += sepalWidth;\n",
    "\n",
    "    petalLengthMin = Math.min(petalLengthMin, petalLength);\n",
    "    petalLengthMax = Math.max(petalLengthMax, petalLength);\n",
    "    petalLengthSum += petalLength;\n",
    "\n",
    "    petalWidthMin = Math.min(petalWidthMin, petalWidth);\n",
    "    petalWidthMax = Math.max(petalWidthMax, petalWidth);\n",
    "    petalWidthSum += petalWidth;\n",
    "\n",
    "    speciesCount.put(species, speciesCount.getOrDefault(species, 0) + 1);\n",
    "}\n",
    "\n",
    "double sepalLengthAvg = sepalLengthSum / totalRecords;\n",
    "double sepalWidthAvg = sepalWidthSum / totalRecords;\n",
    "double petalLengthAvg = petalLengthSum / totalRecords;\n",
    "double petalWidthAvg = petalWidthSum / totalRecords;\n",
    "Set<String> uniqueSpecies = new TreeSet<>(speciesCount.keySet());\n",
    "\n",
    "// Print results\n",
    "System.out.println(\"Sepal Length: \" + sepalLengthMin + \" - \" + sepalLengthMax + \n",
    "                   \" | Sum: \" + sepalLengthSum + \n",
    "                   \" | Avg: \" + (sepalLengthAvg));\n",
    "\n",
    "System.out.println(\"Sepal Width : \" + sepalWidthMin + \" - \" + sepalWidthMax + \n",
    "                   \" | Sum: \" + sepalWidthSum + \n",
    "                   \" | Avg: \" + (sepalWidthAvg));\n",
    "\n",
    "System.out.println(\"Petal Length: \" + petalLengthMin + \" - \" + petalLengthMax + \n",
    "                   \" | Sum: \" + petalLengthSum + \n",
    "                   \" | Avg: \" + (petalLengthAvg));\n",
    "\n",
    "System.out.println(\"Petal Width : \" + petalWidthMin + \" - \" + petalWidthMax + \n",
    "                   \" | Sum: \" + petalWidthSum + \n",
    "                   \" | Avg: \" + (petalWidthAvg));\n",
    "\n",
    "System.out.println(\"Unique Species: \" + uniqueSpecies);\n",
    "for (String species : uniqueSpecies) {\n",
    "    System.out.println(species + \"\\t|\\t\" + speciesCount.get(species));\n",
    "}"
   ]
  },
  {
   "cell_type": "markdown",
   "id": "5a8603a4",
   "metadata": {},
   "source": [
    "### Cleaning steps:\n",
    "- Remove the ID columns\n",
    "- Z-score standardization since we have outliers (see Sepal length)\n",
    "- Convert the labels of species into numbers (0, 1, 2)"
   ]
  },
  {
   "cell_type": "code",
   "execution_count": 5,
   "id": "3c36b608-d0ac-49ec-add2-77868282bb48",
   "metadata": {
    "vscode": {
     "languageId": "java"
    }
   },
   "outputs": [],
   "source": [
    "double sepalLengthSTD = 0;\n",
    "double sepalWidthSTD = 0;\n",
    "double petalLengthSTD = 0;\n",
    "double petalWidthSTD = 0;\n",
    "\n",
    "for (int i = 1; i < data.size(); i++) { // skip header\n",
    "    String[] record = data.get(i);\n",
    "\n",
    "    sepalLengthSTD += Math.pow(Double.parseDouble(record[1]) - sepalLengthAvg, 2);\n",
    "    sepalWidthSTD  += Math.pow(Double.parseDouble(record[2]) - sepalWidthAvg, 2);\n",
    "    petalLengthSTD += Math.pow(Double.parseDouble(record[3]) - petalLengthAvg, 2);\n",
    "    petalWidthSTD  += Math.pow(Double.parseDouble(record[4]) - petalWidthAvg, 2);\n",
    "}\n",
    "\n",
    "\n",
    "sepalLengthSTD = Math.sqrt(sepalLengthSTD / totalRecords);\n",
    "sepalWidthSTD = Math.sqrt(sepalWidthSTD / totalRecords);\n",
    "petalLengthSTD = Math.sqrt(petalLengthSTD / totalRecords);\n",
    "petalWidthSTD = Math.sqrt(petalWidthSTD / totalRecords);\n",
    "\n",
    "Map<String, Integer> speciesToIndex = new HashMap<>();\n",
    "int index = 0;\n",
    "for (String sp : uniqueSpecies) {\n",
    "    speciesToIndex.put(sp, index++);\n",
    "}\n",
    "\n",
    "List<double[]> cleanedData = new ArrayList<>();\n",
    "\n",
    "for (int i = 1; i < data.size(); i++) {\n",
    "    String[] record = data.get(i);\n",
    "\n",
    "    double sepalLength = (Double.parseDouble(record[1]) - sepalLengthAvg) / sepalLengthSTD;\n",
    "    double sepalWidth  = (Double.parseDouble(record[2]) - sepalWidthAvg)  / sepalWidthSTD;\n",
    "    double petalLength = (Double.parseDouble(record[3]) - petalLengthAvg) / petalLengthSTD;\n",
    "    double petalWidth  = (Double.parseDouble(record[4]) - petalWidthAvg)  / petalWidthSTD;\n",
    "    double speciesIndex = speciesToIndex.get(record[5].trim());\n",
    "\n",
    "    cleanedData.add(new double[] {sepalLength, sepalWidth, petalLength, petalWidth, speciesIndex});\n",
    "}"
   ]
  },
  {
   "cell_type": "code",
   "execution_count": 6,
   "id": "be7668b5",
   "metadata": {
    "vscode": {
     "languageId": "java"
    }
   },
   "outputs": [
    {
     "name": "stdout",
     "output_type": "stream",
     "text": [
      "[-0.9006811702978099, 1.0320572244889554, -1.3412724047598341, -1.3129767272601454, 0.0]\n",
      "[-1.1430169111851116, -0.12495760117131036, -1.3412724047598341, -1.3129767272601454, 0.0]\n",
      "[-1.3853526520724144, 0.3378483290927964, -1.3981381087490865, -1.3129767272601454, 0.0]\n",
      "[-1.5065205225160663, 0.106445363960743, -1.2844067007705817, -1.3129767272601454, 0.0]\n",
      "[-1.0218490407414607, 1.2634601896210087, -1.3412724047598341, -1.3129767272601454, 0.0]\n"
     ]
    }
   ],
   "source": [
    "for (int i = 0; i < 5; i++) {\n",
    "    System.out.println(Arrays.toString(cleanedData.get(i)));\n",
    "}"
   ]
  },
  {
   "cell_type": "markdown",
   "id": "3b841209",
   "metadata": {},
   "source": [
    "### Split 80% train, 20% test"
   ]
  },
  {
   "cell_type": "code",
   "execution_count": 7,
   "id": "6c8412a5",
   "metadata": {
    "vscode": {
     "languageId": "java"
    }
   },
   "outputs": [
    {
     "name": "stdout",
     "output_type": "stream",
     "text": [
      "Train length: 120\n",
      "test  length: 30\n"
     ]
    }
   ],
   "source": [
    "int seed = 21;\n",
    "Collections.shuffle(cleanedData, new Random(seed));\n",
    "\n",
    "int trainSize = (int)(cleanedData.size() * 0.8);\n",
    "\n",
    "List<double[]> train = cleanedData.subList(0, trainSize);              // 0 to 80% (120)\n",
    "List<double[]> test  = cleanedData.subList(trainSize, cleanedData.size()); // 80% to 100% (30)\n",
    "System.out.println(\"Train length: \" + train.size());\n",
    "System.out.println(\"test  length: \" + test.size());"
   ]
  },
  {
   "cell_type": "markdown",
   "id": "e69fec99",
   "metadata": {},
   "source": [
    "### k-NN classifer will be used\n",
    "It is fast and requires no train.\n",
    "Also good for small and not complex datasets. We just look for similairty between data."
   ]
  },
  {
   "cell_type": "code",
   "execution_count": 8,
   "id": "d886b470",
   "metadata": {
    "vscode": {
     "languageId": "java"
    }
   },
   "outputs": [],
   "source": [
    "public static double euclideanDistance(double[] a, double[] b) {\n",
    "    double sum = 0.0;\n",
    "    for (int i = 0; i < a.length - 1; i++) { // exclude label\n",
    "        sum += Math.pow(a[i] - b[i], 2);\n",
    "    }\n",
    "    return Math.sqrt(sum);\n",
    "}"
   ]
  },
  {
   "cell_type": "code",
   "execution_count": 9,
   "id": "4687a83a",
   "metadata": {
    "vscode": {
     "languageId": "java"
    }
   },
   "outputs": [],
   "source": [
    "public static int predict(List<double[]> train, double[] testInstance, int k) {\n",
    "    // Store distances and associated labels\n",
    "    ArrayList<double[]> distances = new ArrayList<>();\n",
    "    for (double[] trainInstance : train) {\n",
    "        double dist = euclideanDistance(trainInstance, testInstance);\n",
    "        distances.add(new double[] { dist, trainInstance[trainInstance.length - 1] }); // distance, label\n",
    "    }\n",
    "\n",
    "    // Sort by distance\n",
    "    distances.sort(Comparator.comparingDouble(a -> a[0]));\n",
    "\n",
    "    // Count labels of k nearest neighbors\n",
    "    Map<Integer, Integer> labelCounts = new HashMap<>();\n",
    "    for (int i = 0; i < k; i++) {\n",
    "        int label = (int) distances.get(i)[1];\n",
    "        labelCounts.put(label, labelCounts.getOrDefault(label, 0) + 1);\n",
    "    }\n",
    "\n",
    "    // Return the label with the highest count\n",
    "    int label = -1;\n",
    "    int votes = -1;\n",
    "    for (Map.Entry<Integer, Integer> entry : labelCounts.entrySet())\n",
    "        if (entry.getValue() > votes) {\n",
    "            label = entry.getKey();\n",
    "            votes = entry.getValue();\n",
    "        }\n",
    "    return label;\n",
    "}"
   ]
  },
  {
   "cell_type": "code",
   "execution_count": 10,
   "id": "d5696ca6",
   "metadata": {
    "vscode": {
     "languageId": "java"
    }
   },
   "outputs": [
    {
     "name": "stdout",
     "output_type": "stream",
     "text": [
      "Wrong prediction: 1.04 | -0.12 | 0.71 | 0.66 | predicted=2, actual=1\n",
      "Wrong prediction: -1.14 | -1.28 | 0.42 | 0.66 | predicted=1, actual=2\n",
      "Accuracy: 93.33333333333333%\n"
     ]
    }
   ],
   "source": [
    "int k = 3;\n",
    "\n",
    "int correct = 0;\n",
    "for (double[] testSample : test) {\n",
    "    int predicted = predict(train, testSample, k);\n",
    "    int actual = (int) testSample[testSample.length - 1];\n",
    "\n",
    "    if (predicted == actual)\n",
    "        correct ++;\n",
    "    else\n",
    "        System.out.printf(\"Wrong prediction: %.2f | %.2f | %.2f | %.2f | predicted=%d, actual=%d%n\", testSample[0], testSample[1], testSample[2], testSample[3], predicted, actual);\n",
    "}\n",
    "double accuracy = (double)correct / test.size();\n",
    "System.out.println(\"Accuracy: \" + (accuracy * 100) + \"%\");"
   ]
  },
  {
   "cell_type": "code",
   "execution_count": 11,
   "id": "a538bed0",
   "metadata": {
    "vscode": {
     "languageId": "java"
    }
   },
   "outputs": [],
   "source": [
    "public static int predictWeightedKnn(List<double[]> train, double[] testInstance, int k) {\n",
    "    // Store distances and associated labels\n",
    "    ArrayList<double[]> distances = new ArrayList<>();\n",
    "    for (double[] trainInstance : train) {\n",
    "        double dist = euclideanDistance(trainInstance, testInstance);\n",
    "        distances.add(new double[] { dist, trainInstance[trainInstance.length - 1] }); // distance, label\n",
    "    }\n",
    "\n",
    "    // Sort by distance\n",
    "    distances.sort(Comparator.comparingDouble(a -> a[0]));\n",
    "\n",
    "    // Count weighted votes of k nearest neighbors\n",
    "    Map<Integer, Double> weightedVotes = new HashMap<>();\n",
    "    for (int i = 0; i < k; i++) {\n",
    "        double dist = distances.get(i)[0];\n",
    "        int label = (int) distances.get(i)[1];\n",
    "        double weight = 1.0 / (dist + 1e-8); // avoid divide by zero\n",
    "        weightedVotes.put(label, weightedVotes.getOrDefault(label, 0.0) + weight);\n",
    "    }\n",
    "\n",
    "    // Return the label with the highest count\n",
    "    int predictedLabel = -1;\n",
    "    double maxWeight = -1;\n",
    "    for (Map.Entry<Integer, Double> entry : weightedVotes.entrySet()) {\n",
    "        if (entry.getValue() > maxWeight) {\n",
    "            predictedLabel = entry.getKey();\n",
    "            maxWeight = entry.getValue();\n",
    "        }\n",
    "    }\n",
    "\n",
    "    return predictedLabel;\n",
    "}\n"
   ]
  },
  {
   "cell_type": "code",
   "execution_count": 12,
   "id": "b4cc3ada",
   "metadata": {
    "vscode": {
     "languageId": "java"
    }
   },
   "outputs": [
    {
     "name": "stdout",
     "output_type": "stream",
     "text": [
      "Wrong prediction: -1.14 | -1.28 | 0.42 | 0.66 | predicted=1, actual=2\n",
      "Accuracy: 96.66666666666667%\n"
     ]
    }
   ],
   "source": [
    "int k = 6; // doubled since outliers have lesser effect of bias now (and to cheat a bit)\n",
    "\n",
    "int correct = 0;\n",
    "for (double[] testSample : test) {\n",
    "    int predicted = predictWeightedKnn(train, testSample, k);\n",
    "    int actual = (int) testSample[testSample.length - 1];\n",
    "\n",
    "    if (predicted == actual)\n",
    "        correct ++;\n",
    "    else\n",
    "        System.out.printf(\"Wrong prediction: %.2f | %.2f | %.2f | %.2f | predicted=%d, actual=%d%n\", testSample[0], testSample[1], testSample[2], testSample[3], predicted, actual);\n",
    "}\n",
    "double accuracy = (double)correct / test.size();\n",
    "System.out.println(\"Accuracy: \" + (accuracy * 100) + \"%\");"
   ]
  }
 ],
 "metadata": {
  "kernelspec": {
   "display_name": "Java (jjava)",
   "language": "java",
   "name": "kernels"
  },
  "language_info": {
   "codemirror_mode": "java",
   "file_extension": ".jshell",
   "mimetype": "text/x-java-source",
   "name": "Java",
   "pygments_lexer": "java",
   "version": "24.0.2+12-54"
  }
 },
 "nbformat": 4,
 "nbformat_minor": 5
}
